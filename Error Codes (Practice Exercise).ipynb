{
 "cells": [
  {
   "cell_type": "markdown",
   "id": "339a2d93",
   "metadata": {},
   "source": [
    "### Exercise 1:\n",
    "- Goal: Here we use users table to pull a list of user email addresses. Edit the query to pull email\n",
    "- addresses, but only for non-deleted users.\n",
    "- Starter Code:\n",
    "- SELECT * FROM dsv1069.users"
   ]
  },
  {
   "cell_type": "code",
   "execution_count": 6,
   "id": "1de1f5f4",
   "metadata": {},
   "outputs": [
    {
     "data": {
      "text/plain": [
       "' SELECT email_address \\nFROM dsv1069.users\\nwhere deleted_at is not null '"
      ]
     },
     "execution_count": 6,
     "metadata": {},
     "output_type": "execute_result"
    }
   ],
   "source": [
    "''' SELECT email_address \n",
    "FROM dsv1069.users\n",
    "where deleted_at is not null '''"
   ]
  },
  {
   "cell_type": "markdown",
   "id": "a47bd2ef",
   "metadata": {},
   "source": [
    "### Exercise 2:\n",
    "--Goal: Use the items table to count the number of items for sale in each category\n",
    "1) Starter Code: (none)"
   ]
  },
  {
   "cell_type": "code",
   "execution_count": 7,
   "id": "c0bfba95",
   "metadata": {},
   "outputs": [
    {
     "data": {
      "text/plain": [
       "' SELECT category , count(distinct id) AS items_count \\nFROM dsv1069.items \\nGROUP BY category '"
      ]
     },
     "execution_count": 7,
     "metadata": {},
     "output_type": "execute_result"
    }
   ],
   "source": [
    "''' SELECT category , count(distinct id) AS items_count \n",
    "FROM dsv1069.items \n",
    "GROUP BY category '''"
   ]
  },
  {
   "cell_type": "markdown",
   "id": "eb16ac68",
   "metadata": {},
   "source": [
    "### Exercise 3:\n",
    "--Goal: Select all of the columns from the result when you JOIN the users table to the orders\n",
    "table\n",
    "1) Starter Code: (none)\n"
   ]
  },
  {
   "cell_type": "code",
   "execution_count": 8,
   "id": "38998841",
   "metadata": {},
   "outputs": [
    {
     "data": {
      "text/plain": [
       "' SELECT * FROM dsv1069.users AS u\\ninner join dsv1069.orders AS o\\nON u.id = o.user_id '"
      ]
     },
     "execution_count": 8,
     "metadata": {},
     "output_type": "execute_result"
    }
   ],
   "source": [
    "''' SELECT * FROM dsv1069.users AS u\n",
    "inner join dsv1069.orders AS o\n",
    "ON u.id = o.user_id '''"
   ]
  },
  {
   "cell_type": "markdown",
   "id": "5518cb92",
   "metadata": {},
   "source": [
    "### Exercise 4:\n",
    "--Goal: Check out the query below. This is not the right way to count the number of viewed_item\n",
    "events. Determine what is wrong and correct the error.\n",
    "1) Starter Code:\n",
    ">> SELECT\n",
    "COUNT(event_id) AS events\n",
    "FROM dsv1069.events\n",
    "WHERE event_name = ‘view_item’"
   ]
  },
  {
   "cell_type": "markdown",
   "id": "45757959",
   "metadata": {},
   "source": [
    ">>> the previous query wrong because the item id will appear many items when as many customers make orders "
   ]
  },
  {
   "cell_type": "code",
   "execution_count": 11,
   "id": "6184f970",
   "metadata": {},
   "outputs": [
    {
     "data": {
      "text/plain": [
       "' SELECT count(distinct id)  FROM dsv1069.items\\nwhere id in ( SELECT DISTINCT item_id from  dsv1069.orders) '"
      ]
     },
     "execution_count": 11,
     "metadata": {},
     "output_type": "execute_result"
    }
   ],
   "source": [
    "''' \n",
    "SELECT count(distinct item_id) \n",
    "FROM dsv1069.items as i \n",
    "inner join dsv1069.orders as o\n",
    "ON i.id = o.item_id '''\n",
    "\n",
    "\n",
    "#OR \n",
    "\n",
    "\n",
    "''' SELECT count(distinct id)  FROM dsv1069.items\n",
    "where id in ( SELECT DISTINCT item_id from  dsv1069.orders) '''\n"
   ]
  },
  {
   "cell_type": "markdown",
   "id": "d81828f8",
   "metadata": {},
   "source": [
    "### Exercise 6:\n",
    ">> Goal: For each user figure out IF a user has ordered something, and when their first purchase\n",
    "was. The query below doesn’t return info for any of the users who haven’t ordered anything."
   ]
  },
  {
   "cell_type": "markdown",
   "id": "4fc6f92a",
   "metadata": {},
   "source": [
    "### Part1)\n",
    ">> SELECT u.id as user_id , COALESCE(CAST(o.created_at AS VARCHAR) , 'NO ORDERS')\n",
    "FROM dsv1069.users as u\n",
    "LEFT join  dsv1069.orders as o \n",
    "ON u.id = o.user_id \n",
    "\n",
    ">> SELECT u.id as user_id , o.created_at , case when o.created_at IS null THEN 'no orders for this user'\n",
    "                              when o.created_at is not null THEN 'user has ordered something'\n",
    "                              END AS users_orders_flag\n",
    "FROM dsv1069.users as u\n",
    "LEFT join  dsv1069.orders as o \n",
    "ON u.id = o.user_id \n",
    "\n",
    "### Part 2 : users first order date\n",
    ">> WITH CTE AS (SELECT u.id as user_id , o.created_at , case when o.created_at IS null THEN 0\n",
    "                              when o.created_at is not null THEN 1\n",
    "                              END AS users_orders_flag,\n",
    "row_number() OVER(PARTITION BY u.id ORDER BY o.created_at ASC) AS ranking \n",
    "FROM dsv1069.users as u\n",
    "LEFT join  dsv1069.orders as o \n",
    "ON u.id = o.user_id ) \n",
    "SELECT user_id AS user , created_at AS user_first_order_date FROM CTE \n",
    "WHERE ranking = 1 and users_orders_flag = 1"
   ]
  },
  {
   "cell_type": "markdown",
   "id": "987c7bf6",
   "metadata": {},
   "source": [
    "### Exercise 7:\n",
    "--Goal: Figure out what percent of users have ever viewed the user profile page, but this query\n",
    "isn’t right. Check to make sure the number of users adds up, and if not, fix the query"
   ]
  },
  {
   "cell_type": "markdown",
   "id": "9fbb9a25",
   "metadata": {},
   "source": [
    "> with cte as ( SELECT u.id as id , min(e.event_time) as min_time\n",
    "from dsv1069.users as u \n",
    "left join dsv1069.events as e\n",
    "on u.id = e.user_id\n",
    "-- where event_name = 'view_user_profile'\n",
    "group by u.id) \n",
    "SELECT case when min_time IS null then 0 ELSE 1 END AS flag , COUNT(DISTINCT id)\n",
    "FROM CTE \n",
    "GROUP BY case when min_time IS null then 0 ELSE 1 END"
   ]
  }
 ],
 "metadata": {
  "kernelspec": {
   "display_name": "Python 3 (ipykernel)",
   "language": "python",
   "name": "python3"
  },
  "language_info": {
   "codemirror_mode": {
    "name": "ipython",
    "version": 3
   },
   "file_extension": ".py",
   "mimetype": "text/x-python",
   "name": "python",
   "nbconvert_exporter": "python",
   "pygments_lexer": "ipython3",
   "version": "3.9.7"
  }
 },
 "nbformat": 4,
 "nbformat_minor": 5
}
